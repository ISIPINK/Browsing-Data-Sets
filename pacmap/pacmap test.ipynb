{
 "cells": [
  {
   "cell_type": "code",
   "execution_count": 48,
   "metadata": {},
   "outputs": [],
   "source": [
    "import pacmap\n",
    "import numpy as np\n",
    "import matplotlib.pyplot as plt\n",
    "import seaborn as sns\n",
    "from sklearn.preprocessing import RobustScaler\n",
    "\n",
    "penguins = (\n",
    "    sns.load_dataset('penguins')\n",
    "    .dropna()\n",
    "    .rename(\n",
    "        columns={\n",
    "            \"bill_length_mm\": \"bill-length\", \n",
    "            \"bill_depth_mm\": \"bill-depth\", \n",
    "            \"flipper_length_mm\": \"flipper-length\", \n",
    "            \"body_mass_g\": \"body-mass\"\n",
    "        }\n",
    "    )\n",
    ")\n"
   ]
  },
  {
   "cell_type": "code",
   "execution_count": 16,
   "metadata": {},
   "outputs": [
    {
     "name": "stdout",
     "output_type": "stream",
     "text": [
      "Index(['species', 'island', 'bill-length', 'bill-depth', 'flipper-length',\n",
      "       'body-mass', 'sex'],\n",
      "      dtype='object')\n",
      "species            object\n",
      "island             object\n",
      "bill-length       float64\n",
      "bill-depth        float64\n",
      "flipper-length    float64\n",
      "body-mass         float64\n",
      "sex                object\n",
      "dtype: object\n",
      "333\n"
     ]
    }
   ],
   "source": [
    "print(penguins.columns)\n",
    "print(penguins.dtypes)\n",
    "print(len(penguins))"
   ]
  },
  {
   "cell_type": "code",
   "execution_count": 15,
   "metadata": {},
   "outputs": [
    {
     "name": "stdout",
     "output_type": "stream",
     "text": [
      "   bill-length  bill-depth  flipper-length  body-mass  species_Adelie  \\\n",
      "0         39.1        18.7           181.0     3750.0             1.0   \n",
      "1         39.5        17.4           186.0     3800.0             1.0   \n",
      "2         40.3        18.0           195.0     3250.0             1.0   \n",
      "4         36.7        19.3           193.0     3450.0             1.0   \n",
      "5         39.3        20.6           190.0     3650.0             1.0   \n",
      "\n",
      "   species_Chinstrap  species_Gentoo  island_Biscoe  island_Dream  \\\n",
      "0                0.0             0.0            0.0           0.0   \n",
      "1                0.0             0.0            0.0           0.0   \n",
      "2                0.0             0.0            0.0           0.0   \n",
      "4                0.0             0.0            0.0           0.0   \n",
      "5                0.0             0.0            0.0           0.0   \n",
      "\n",
      "   island_Torgersen  sex_Female  sex_Male  \n",
      "0               1.0         0.0       1.0  \n",
      "1               1.0         1.0       0.0  \n",
      "2               1.0         1.0       0.0  \n",
      "4               1.0         0.0       1.0  \n",
      "5               1.0         1.0       0.0  \n",
      "324\n"
     ]
    },
    {
     "name": "stderr",
     "output_type": "stream",
     "text": [
      "C:\\Users\\isido\\AppData\\Local\\Packages\\PythonSoftwareFoundation.Python.3.10_qbz5n2kfra8p0\\LocalCache\\local-packages\\Python310\\site-packages\\sklearn\\utils\\deprecation.py:87: FutureWarning: Function get_feature_names is deprecated; get_feature_names is deprecated in 1.0 and will be removed in 1.2. Please use get_feature_names_out instead.\n",
      "  warnings.warn(msg, category=FutureWarning)\n"
     ]
    }
   ],
   "source": [
    "import pandas as pd\n",
    "from sklearn.preprocessing import OneHotEncoder\n",
    "\n",
    "categorical_cols = ['species', 'island', 'sex']\n",
    "penguins_categorical = penguins[categorical_cols]\n",
    "encoder = OneHotEncoder()\n",
    "one_hot_encoded = encoder.fit_transform(penguins_categorical)\n",
    "one_hot_encoded_df = pd.DataFrame(one_hot_encoded.toarray(), columns=encoder.get_feature_names(categorical_cols))\n",
    "penguins_encoded = pd.concat([penguins.drop(columns=categorical_cols), one_hot_encoded_df], axis=1)\n",
    "penguins_encoded = penguins_encoded.dropna()\n",
    "print(penguins_encoded.head())\n",
    "print(len(penguins_encoded))"
   ]
  },
  {
   "cell_type": "code",
   "execution_count": 18,
   "metadata": {},
   "outputs": [
    {
     "name": "stdout",
     "output_type": "stream",
     "text": [
      "[[ 39.1  18.7 181.  ...   1.    0.    1. ]\n",
      " [ 39.5  17.4 186.  ...   1.    1.    0. ]\n",
      " [ 40.3  18.  195.  ...   1.    1.    0. ]\n",
      " ...\n",
      " [ 50.5  15.2 216.  ...   0.    0.    1. ]\n",
      " [ 49.8  15.9 229.  ...   0.    1.    0. ]\n",
      " [ 43.5  15.2 213.  ...   0.    0.    1. ]]\n"
     ]
    }
   ],
   "source": [
    "penguins_np = penguins_encoded.to_numpy()\n",
    "print(penguins_np)"
   ]
  },
  {
   "cell_type": "code",
   "execution_count": 34,
   "metadata": {},
   "outputs": [],
   "source": [
    "X = penguins_np[:,:-2]\n",
    "y= penguins_np[:,-1]"
   ]
  },
  {
   "cell_type": "code",
   "execution_count": 35,
   "metadata": {},
   "outputs": [
    {
     "name": "stdout",
     "output_type": "stream",
     "text": [
      "(324, 10)\n",
      "(324,)\n"
     ]
    }
   ],
   "source": [
    "print(X.shape)\n",
    "print(y.shape)"
   ]
  },
  {
   "cell_type": "code",
   "execution_count": 49,
   "metadata": {},
   "outputs": [
    {
     "name": "stdout",
     "output_type": "stream",
     "text": [
      "[-0.54945055  0.03225806 -0.47826087 -0.20408163]\n"
     ]
    }
   ],
   "source": [
    "data_for_umap = RobustScaler().fit_transform(penguins.select_dtypes(include=\"number\"))\n",
    "print(data_for_umap[1])"
   ]
  },
  {
   "cell_type": "code",
   "execution_count": 59,
   "metadata": {},
   "outputs": [],
   "source": []
  },
  {
   "cell_type": "code",
   "execution_count": 60,
   "metadata": {},
   "outputs": [
    {
     "name": "stdout",
     "output_type": "stream",
     "text": [
      "['Adelie' 'Chinstrap' 'Gentoo']\n"
     ]
    }
   ],
   "source": [
    "print(penguins[\"species\"].unique())"
   ]
  },
  {
   "cell_type": "code",
   "execution_count": 61,
   "metadata": {},
   "outputs": [
    {
     "name": "stdout",
     "output_type": "stream",
     "text": [
      "333 333\n"
     ]
    }
   ],
   "source": [
    "def map_species(txt):\n",
    "    m = {'Adelie':0, 'Chinstrap':1, 'Gentoo':2}\n",
    "    return m[txt] \n",
    "\n",
    "X = data_for_umap\n",
    "y = penguins[\"species\"].apply(map_species)\n",
    "print(len(X),len(y))"
   ]
  },
  {
   "cell_type": "code",
   "execution_count": 64,
   "metadata": {},
   "outputs": [
    {
     "data": {
      "image/png": "[encoded data removed]",
      "text/plain": [
       "<Figure size 600x600 with 1 Axes>"
      ]
     },
     "metadata": {},
     "output_type": "display_data"
    }
   ],
   "source": [
    "\n",
    "# loading preprocessed coil_20 dataset\n",
    "# you can change it with any dataset that is in the ndarray format, with the shape (N, D)\n",
    "# where N is the number of samples and D is the dimension of each sample\n",
    "# initializing the pacmap instance\n",
    "# Setting n_neighbors to \"None\" leads to a default choice shown below in \"parameter\" section\n",
    "embedding = pacmap.PaCMAP(n_components=2, n_neighbors=5, MN_ratio=0.5, FP_ratio=2.0) \n",
    "\n",
    "# fit the data (The index of transformed data corresponds to the index of the original data)\n",
    "X_transformed = embedding.fit_transform(X, init=\"pca\")\n",
    "\n",
    "# visualize the embedding\n",
    "fig, ax = plt.subplots(1, 1, figsize=(6, 6))\n",
    "ax.scatter(X_transformed[:, 0], X_transformed[:, 1], cmap=\"Spectral\", c=y, s=0.6)\n",
    "plt.show()"
   ]
  }
 ],
 "metadata": {
  "kernelspec": {
   "display_name": "Python 3",
   "language": "python",
   "name": "python3"
  },
  "language_info": {
   "codemirror_mode": {
    "name": "ipython",
    "version": 3
   },
   "file_extension": ".py",
   "mimetype": "text/x-python",
   "name": "python",
   "nbconvert_exporter": "python",
   "pygments_lexer": "ipython3",
   "version": "3.10.11"
  },
  "orig_nbformat": 4
 },
 "nbformat": 4,
 "nbformat_minor": 2
}
